{
 "cells": [
  {
   "cell_type": "code",
   "execution_count": 7,
   "metadata": {},
   "outputs": [],
   "source": [
    "from sklearn import datasets  # type: ignore\n",
    "from sklearn.model_selection import train_test_split  # type: ignore\n",
    "import numpy as np  # type: ignore\n",
    "from DecisionTree import DecisionTree\n",
    "from KNN import KNN\n",
    "from NaiveBayes import NaiveBayesClassfier\n",
    "from RandomForest import RandomForest\n",
    "data = datasets.load_breast_cancer()"
   ]
  },
  {
   "cell_type": "code",
   "execution_count": 6,
   "metadata": {},
   "outputs": [
    {
     "name": "stdout",
     "output_type": "stream",
     "text": [
      "(569, 30)\n"
     ]
    }
   ],
   "source": [
    "data = datasets.load_breast_cancer()\n",
    "X, y = data.data, data.target\n",
    "\n",
    "X_train, X_test, y_train, y_test = train_test_split(\n",
    "    X, y, test_size= 0.2, random_state=None\n",
    ")\n",
    "print(X.shape)"
   ]
  },
  {
   "cell_type": "code",
   "execution_count": 8,
   "metadata": {},
   "outputs": [],
   "source": [
    "def accuracy(y_test, predictions):\n",
    "    return np.sum(y_test == predictions)/len(y_test)"
   ]
  },
  {
   "cell_type": "code",
   "execution_count": 4,
   "metadata": {},
   "outputs": [
    {
     "name": "stdout",
     "output_type": "stream",
     "text": [
      "accuracy of Decision Tree 0.9122807017543859\n"
     ]
    }
   ],
   "source": [
    "decsion_tree = DecisionTree(max_depth = 10)\n",
    "decsion_tree.fit(X_train, y_train)\n",
    "\n",
    "predictions = decsion_tree.predict(X_test)\n",
    "\n",
    "accuracy_of_decision_tree = accuracy(y_test, predictions )\n",
    "print(f\"Accuracy of Decision Tree {accuracy_of_decision_tree}\")"
   ]
  },
  {
   "cell_type": "code",
   "execution_count": 9,
   "metadata": {},
   "outputs": [
    {
     "name": "stdout",
     "output_type": "stream",
     "text": [
      "Accuracy of Random Forest 0.9649122807017544\n"
     ]
    }
   ],
   "source": [
    "\n",
    "random_forest = RandomForest(n_trees = 50, max_depth = 10)\n",
    "random_forest.fit(X_train, y_train)\n",
    "\n",
    "predictions = random_forest.predict(X_test)\n",
    "\n",
    "accuracy_of_random_forest = accuracy(y_test, predictions )\n",
    "print(f\"Accuracy of Random Forest {accuracy_of_random_forest}\")"
   ]
  },
  {
   "cell_type": "code",
   "execution_count": 11,
   "metadata": {},
   "outputs": [
    {
     "name": "stdout",
     "output_type": "stream",
     "text": [
      "Accuracy of Naive Bayes 0.7192982456140351\n"
     ]
    }
   ],
   "source": [
    "\n",
    "naive_bayes_cf = NaiveBayesClassfier()\n",
    "naive_bayes_cf.fit(X_train, y_train)\n",
    "\n",
    "predictions = naive_bayes_cf.predict(X_test)\n",
    "\n",
    "accuracy_of_naive_bayes_cf = accuracy(y_test, predictions )\n",
    "print(f\"Accuracy of Naive Bayes {accuracy_of_naive_bayes_cf}\")\n"
   ]
  },
  {
   "cell_type": "code",
   "execution_count": 12,
   "metadata": {},
   "outputs": [
    {
     "name": "stdout",
     "output_type": "stream",
     "text": [
      "Accuracy of KNN 0.8947368421052632\n"
     ]
    }
   ],
   "source": [
    "\n",
    "knn = KNN(k = 5)\n",
    "knn.fit(X_train, y_train)\n",
    "\n",
    "predictions = knn.predict(X_test)\n",
    "\n",
    "\n",
    "accuracy_of_KNN = accuracy(y_test, predictions )\n",
    "print(f\"Accuracy of KNN {accuracy_of_KNN}\")\n",
    "\n"
   ]
  },
  {
   "cell_type": "code",
   "execution_count": null,
   "metadata": {},
   "outputs": [],
   "source": []
  }
 ],
 "metadata": {
  "kernelspec": {
   "display_name": "Python 3",
   "language": "python",
   "name": "python3"
  },
  "language_info": {
   "codemirror_mode": {
    "name": "ipython",
    "version": 3
   },
   "file_extension": ".py",
   "mimetype": "text/x-python",
   "name": "python",
   "nbconvert_exporter": "python",
   "pygments_lexer": "ipython3",
   "version": "3.12.4"
  }
 },
 "nbformat": 4,
 "nbformat_minor": 2
}
